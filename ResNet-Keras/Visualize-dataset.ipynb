{
 "cells": [
  {
   "cell_type": "markdown",
   "metadata": {},
   "source": [
    "# 数据集可视化\n",
    "\n",
    "这是个markdown，所以也是可以写公式的\n",
    "\n",
    "顾名思义，这是个可视化测试数据的东西，那么先来一点import"
   ]
  },
  {
   "cell_type": "code",
   "execution_count": 2,
   "metadata": {},
   "outputs": [],
   "source": [
    "import keras  # 我的版本没有对得很好，有future warning\n",
    "import numpy as np\n",
    "import matplotlib.pyplot as plt\n",
    "from matplotlib.pyplot import imread\n",
    "\n",
    "classification = 'airplane','automobile','bird','cat','deer','dog','frog','horse','ship','truck'"
   ]
  },
  {
   "cell_type": "markdown",
   "metadata": {},
   "source": [
    "把数据给拿进来，如果没下过数据的话可能要先下载一下："
   ]
  },
  {
   "cell_type": "code",
   "execution_count": 3,
   "metadata": {},
   "outputs": [
    {
     "name": "stdout",
     "output_type": "stream",
     "text": [
      "== LOADING DATA... ==\n",
      "== Done... ==\n"
     ]
    }
   ],
   "source": [
    "print(\"== LOADING DATA... ==\")\n",
    "(x_train, y_train), (x_test, y_test) = keras.datasets.cifar10.load_data()\n",
    "print(\"== Done... ==\")"
   ]
  },
  {
   "cell_type": "code",
   "execution_count": 4,
   "metadata": {},
   "outputs": [
    {
     "name": "stdout",
     "output_type": "stream",
     "text": [
      "Shape of x_train: (50000, 32, 32, 3)\n",
      "Shape of y_train: (50000, 1)\n",
      "Shape of x_test: (10000, 32, 32, 3)\n",
      "Shape of y_test: (10000, 1)\n"
     ]
    }
   ],
   "source": [
    "print(\"Shape of x_train:\", x_train.shape)\n",
    "print(\"Shape of y_train:\", y_train.shape)\n",
    "print(\"Shape of x_test:\", x_test.shape)\n",
    "print(\"Shape of y_test:\", y_test.shape)"
   ]
  },
  {
   "cell_type": "markdown",
   "metadata": {},
   "source": [
    "定义一个函数，根据下标来显示图像："
   ]
  },
  {
   "cell_type": "code",
   "execution_count": 5,
   "metadata": {},
   "outputs": [],
   "source": [
    "def display_image(index, set='train'):\n",
    "    img = x_train[index] if set=='train' else x_test[index]\n",
    "    label = y_train[index] if set=='train' else y_test[index]\n",
    "    return img, classification[label[0]]"
   ]
  },
  {
   "cell_type": "code",
   "execution_count": 6,
   "metadata": {},
   "outputs": [
    {
     "data": {
      "image/png": "[encoded data removed]",
      "text/plain": [
       "<Figure size 432x288 with 1 Axes>"
      ]
     },
     "metadata": {
      "needs_background": "light"
     },
     "output_type": "display_data"
    }
   ],
   "source": [
    "img, label_name = display_image(index=0, set='train') #只需要修改这里\n",
    "\n",
    "plt.imshow(img)\n",
    "plt.title('class: {} '.format(label_name))\n",
    "\n",
    "plt.show()"
   ]
  },
  {
   "cell_type": "markdown",
   "metadata": {},
   "source": [
    "看起来非常的抽象，不过确实非常抽象。"
   ]
  },
  {
   "cell_type": "markdown",
   "metadata": {},
   "source": [
    "# 加载模型\n",
    "接下来要加载我们的模型了，有那么一些激动.\n",
    "\n",
    "首先来看一看我们的模型："
   ]
  },
  {
   "cell_type": "code",
   "execution_count": 7,
   "metadata": {},
   "outputs": [
    {
     "name": "stdout",
     "output_type": "stream",
     "text": [
      "WARNING:tensorflow:From D:\\Anaconda3\\envs\\python36\\lib\\site-packages\\keras\\backend\\tensorflow_backend.py:422: The name tf.global_variables is deprecated. Please use tf.compat.v1.global_variables instead.\n",
      "\n"
     ]
    }
   ],
   "source": [
    "model = keras.models.load_model('./resnet_20_cifar10.h5')\n",
    "# model.summary()"
   ]
  },
  {
   "cell_type": "markdown",
   "metadata": {},
   "source": [
    "再定义一下预测函数："
   ]
  },
  {
   "cell_type": "code",
   "execution_count": 8,
   "metadata": {},
   "outputs": [],
   "source": [
    "def predict_image(img):\n",
    "    # === 验证部分 ===\n",
    "    # 预处理\n",
    "    img_predict = img.astype('float32').reshape([1,32,32,3])\n",
    "    mean = [125.307, 122.95, 113.865]\n",
    "    std  = [62.9932, 62.0887, 66.7048]\n",
    "    for i in range(3):\n",
    "        img_predict[:,:,:,i] = (img_predict[:,:,:,i] - mean[i]) / std[i]\n",
    "\n",
    "    # 预测\n",
    "    return model.predict(img_predict)"
   ]
  },
  {
   "cell_type": "markdown",
   "metadata": {},
   "source": [
    "好，很好，非常好，那么接下来在数据集中拿一张图片来跑一跑："
   ]
  },
  {
   "cell_type": "code",
   "execution_count": 12,
   "metadata": {},
   "outputs": [
    {
     "name": "stdout",
     "output_type": "stream",
     "text": [
      "你将要测试如下图片：\n"
     ]
    },
    {
     "data": {
      "image/png": "[encoded data removed]",
      "text/plain": [
       "<Figure size 432x288 with 1 Axes>"
      ]
     },
     "metadata": {
      "needs_background": "light"
     },
     "output_type": "display_data"
    }
   ],
   "source": [
    "img, label_name = display_image(index=9525, set='test') #只需要修改这里\n",
    "\n",
    "print(\"你将要测试如下图片：\")\n",
    "plt.imshow(img)\n",
    "plt.title('class: {} '.format(label_name))\n",
    "\n",
    "plt.show()"
   ]
  },
  {
   "cell_type": "code",
   "execution_count": 13,
   "metadata": {},
   "outputs": [
    {
     "data": {
      "image/png": "[encoded data removed]",
      "text/plain": [
       "<Figure size 432x288 with 1 Axes>"
      ]
     },
     "metadata": {
      "needs_background": "light"
     },
     "output_type": "display_data"
    },
    {
     "name": "stdout",
     "output_type": "stream",
     "text": [
      "[8.4780655e-12 4.4761533e-13 9.9999523e-01 2.2064323e-06 2.4997646e-06\n",
      " 2.5084441e-09 6.9211864e-10 4.5516625e-11 7.4475530e-12 3.1924317e-11]\n"
     ]
    }
   ],
   "source": [
    "# 预测\n",
    "predicion = predict_image(img).reshape([10,])\n",
    "\n",
    "# 打印结果\n",
    "plt.barh(range(10), predicion, height=0.7, color='steelblue', alpha=0.8)      # 从下往上画\n",
    "plt.yticks(range(10), classification)\n",
    "plt.xlabel(\"probabilities\")\n",
    "plt.xlim(0,1)\n",
    "plt.show()\n",
    "\n",
    "print(predicion)"
   ]
  },
  {
   "cell_type": "markdown",
   "metadata": {},
   "source": [
    "# 加载自己的图片\n",
    "\n",
    "因为我还没写，所以我们需要恰好$32\\times32$像素的图片："
   ]
  },
  {
   "cell_type": "code",
   "execution_count": 14,
   "metadata": {
    "scrolled": true
   },
   "outputs": [
    {
     "name": "stdout",
     "output_type": "stream",
     "text": [
      "(32, 32, 3)\n",
      "你将要测试如下图片：\n"
     ]
    },
    {
     "data": {
      "image/png": "[encoded data removed]",
      "text/plain": [
       "<Figure size 432x288 with 1 Axes>"
      ]
     },
     "metadata": {
      "needs_background": "light"
     },
     "output_type": "display_data"
    }
   ],
   "source": [
    "image= imread(\"./pictures/cat-1.png\")\n",
    "image= image[:,:,0:3]\n",
    "print(image.shape)\n",
    "assert(image.shape == (32,32,3))\n",
    "\n",
    "\n",
    "print(\"你将要测试如下图片：\")\n",
    "plt.imshow(image)\n",
    "\n",
    "plt.show()"
   ]
  },
  {
   "cell_type": "code",
   "execution_count": 15,
   "metadata": {},
   "outputs": [
    {
     "data": {
      "image/png": "[encoded data removed]",
      "text/plain": [
       "<Figure size 432x288 with 1 Axes>"
      ]
     },
     "metadata": {
      "needs_background": "light"
     },
     "output_type": "display_data"
    },
    {
     "name": "stdout",
     "output_type": "stream",
     "text": [
      "[9.5264152e-02 2.0516089e-04 1.7369837e-02 8.2951665e-01 2.8085659e-04\n",
      " 1.1678206e-02 2.2161498e-03 1.2525177e-02 1.6980138e-04 3.0773979e-02]\n"
     ]
    }
   ],
   "source": [
    "# 预测\n",
    "predicion = predict_image(image * 255).reshape([10,])\n",
    "\n",
    "# 打印结果\n",
    "plt.barh(range(10), predicion, height=0.7, color='steelblue', alpha=0.8)      # 从下往上画\n",
    "plt.yticks(range(10), classification)\n",
    "plt.xlabel(\"probabilities\")\n",
    "plt.xlim(0,1)\n",
    "plt.show()\n",
    "\n",
    "print(predicion)"
   ]
  },
  {
   "cell_type": "markdown",
   "metadata": {},
   "source": [
    "妙哇（手动滑稽）"
   ]
  }
 ],
 "metadata": {
  "kernelspec": {
   "display_name": "python36",
   "language": "python",
   "name": "python36"
  },
  "language_info": {
   "codemirror_mode": {
    "name": "ipython",
    "version": 3
   },
   "file_extension": ".py",
   "mimetype": "text/x-python",
   "name": "python",
   "nbconvert_exporter": "python",
   "pygments_lexer": "ipython3",
   "version": "3.6.7"
  }
 },
 "nbformat": 4,
 "nbformat_minor": 2
}
